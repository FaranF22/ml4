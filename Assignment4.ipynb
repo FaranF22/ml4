{
 "cells": [
  {
   "cell_type": "code",
   "execution_count": 1,
   "metadata": {
    "collapsed": true,
    "pycharm": {
     "name": "#%%\n"
    }
   },
   "outputs": [],
   "source": [
    "import pandas as pd\n",
    "import numpy as np\n",
    "from scipy import stats\n",
    "import seaborn as sns\n",
    "from sklearn.model_selection import train_test_split\n",
    "import matplotlib.pyplot as plt\n",
    "import random\n",
    "from sklearn.tree import DecisionTreeClassifier\n",
    "from sklearn.ensemble import RandomForestClassifier\n",
    "from sklearn.preprocessing import LabelEncoder\n",
    "from sklearn.metrics import accuracy_score, mean_squared_error, precision_score, recall_score, f1_score, confusion_matrix"
   ]
  },
  {
   "cell_type": "markdown",
   "source": [
    "## 1. Data Exploration and Preprocessing"
   ],
   "metadata": {
    "collapsed": false,
    "pycharm": {
     "name": "#%% md\n"
    }
   }
  },
  {
   "cell_type": "code",
   "execution_count": 2,
   "outputs": [],
   "source": [
    "df = pd.read_csv('dataset_diabetes/diabetic_data.csv')\n",
    "df.head()\n",
    "\n",
    "def print_column_values(col):\n",
    "    my_set = set()\n",
    "    for value in df[col]:\n",
    "        my_set.add(value)\n",
    "    print(my_set)"
   ],
   "metadata": {
    "collapsed": false,
    "pycharm": {
     "name": "#%%\n"
    }
   }
  },
  {
   "cell_type": "markdown",
   "source": [
    "The dataset has the following features:\n",
    "\n",
    "* encounter_id: (Number)\n",
    "آیدی منحصر به فرد برای دیدار با هر بیمار\n",
    "\n",
    "* patient_nbr: (Number)\n",
    "آیدی منحصر به فرد هر بیمار\n",
    "\n",
    "* race: (Categorical)\n",
    "نژاد فرد\n",
    "[Caucasian, African American, Hispanic, Asian, Other]\n",
    "\n",
    "* gender: (Categorical)\n",
    "جنسیت فرد\n",
    "[Female, Male, Unknown/Invalid]\n",
    "\n",
    "* age: [x, y)\n",
    "سن فرد در بازه های 10 ساله\n",
    "\n",
    "* weight: [x, y)\n",
    "وزن بیمار در بازه های 10 تایی\n",
    "\n",
    "* admission_type_id: (Categorical)\n",
    "نوع پذیرش که اطلاعات کامل در فایل اکسل است\n",
    "\n",
    "* discharge_disposition_id: (Categorical)\n",
    "نوع ترخیص که اطلاعات کامل در فایل اکسل است\n",
    "\n",
    "* admission_source_id: (Categorical)\n",
    "نوع منبع پذیرش که اطلاعات کامل در فایل اکسل است\n",
    "\n",
    "* time_in_hospital: (Number)\n",
    "مدت زمان بستری در بیمارستان به روز\n",
    "\n",
    "* payer_code: (Categorical)\n",
    "نوع بیمه سلامت فرد که اطلاعات کامل در فایل اکسل اضافه کردیم\n",
    "\n",
    "* medical_specialty: (Categorical)\n",
    "نوع متخصص که اطلاعات کامل در فایل اکسل اضافه کردیم\n",
    "\n",
    "* num_lab_procedures: (Number)\n",
    "تعداد تست های آزمایشگاهی گرفته شده\n",
    "\n",
    "* num_procedures: (Number)\n",
    "تعداد عمل های انجام شده\n",
    "\n",
    "* num_medications: (Number)\n",
    "تعداد دارو های مصرف شده\n",
    "\n",
    "* number_outpatient: (Number)\n",
    "تعداد ویزیت های کوتاه\n",
    "\n",
    "* number_emergency: (Number)\n",
    "تعداد ویزیت های اورژانسی\n",
    "\n",
    "* number_inpatient: (Number)\n",
    "تعداد بستری های بیمار\n",
    "\n",
    "* diag_1: (ICD-9)\n",
    "معاینه اصلی\n",
    "\n",
    "* diag_2: (ICD-9)\n",
    "معاینه دوم\n",
    "\n",
    "* diag_3: (ICD-9)\n",
    "معاینه سوم\n",
    "\n",
    "* number_diagnoses: (Number)\n",
    "تعداد معاینه ها\n",
    "\n",
    "* max_glu_serum: (Categorical)\n",
    "بازه ای از نتایج تست یا دو حالت دیگر که تست انجام شده است یا خیر برای Glucose serum test\n",
    "['>200', '>300', 'Norm', 'None']\n",
    "\n",
    "* A1Cresult: (Categorical)\n",
    "بازه ای از نتایج تست یا دو حالت دیگر که تست انجام شده است یا خیر برای A1C\n",
    "['>7', '>8', 'Norm', 'None']\n",
    "\n",
    "\n",
    "موارد زیر می گوید که آیا دارو تجویز شده است یا خیر\n",
    "(Categorical)\n",
    "['Down', 'Up', 'Steady', 'No']\n",
    "* metformin\n",
    "* repaglinide\n",
    "* nateglinide\n",
    "* chlorpropamide\n",
    "* glimepiride\n",
    "* acetohexamide\n",
    "* glipizide\n",
    "* tolbutamide\n",
    "* pioglitazone\n",
    "* rosiglitazone\n",
    "* acarbose\n",
    "* miglitol\n",
    "* troglitazone\n",
    "* tolazamide\n",
    "* examide\n",
    "* citoglipton\n",
    "* insulin\n",
    "* glyburide-metformin\n",
    "* glipizide-metformin\n",
    "* glimepiride-pioglitazone\n",
    "* metformin-rosiglitazone\n",
    "* metformin-pioglitazone\n",
    "\n",
    "\n",
    "* change: (Categorical)\n",
    "آیا دارو های دیابت تغییر کرده اند یا خیر\n",
    "['Ch', 'No']\n",
    "\n",
    "* diabetesMed: (Categorical)\n",
    "آیا هر داروی ضد دیابتی تجویز شده است یا خیر\n",
    "['Yes', 'No']\n",
    "\n",
    "* readmitted: (Categorical)\n",
    "آیا بیمار پس از 30 روز مجددا در بیمارستان پذیرفته شده است یا نه\n",
    "['NO', '>30', '<30']"
   ],
   "metadata": {
    "collapsed": false,
    "pycharm": {
     "name": "#%% md\n"
    }
   }
  },
  {
   "cell_type": "markdown",
   "source": [
    "#### Handle missing data"
   ],
   "metadata": {
    "collapsed": false,
    "pycharm": {
     "name": "#%% md\n"
    }
   }
  },
  {
   "cell_type": "code",
   "execution_count": 3,
   "outputs": [
    {
     "name": "stdout",
     "output_type": "stream",
     "text": [
      "encounter_id : 0.0 %\n",
      "patient_nbr : 0.0 %\n",
      "race : 0.022335554114340742 %\n",
      "gender : 0.0 %\n",
      "age : 0.0 %\n",
      "weight : 0.9685847925633315 %\n",
      "admission_type_id : 0.0 %\n",
      "discharge_disposition_id : 0.0 %\n",
      "admission_source_id : 0.0 %\n",
      "time_in_hospital : 0.0 %\n",
      "payer_code : 0.395574160328597 %\n",
      "medical_specialty : 0.49082208203132677 %\n",
      "num_lab_procedures : 0.0 %\n",
      "num_procedures : 0.0 %\n",
      "num_medications : 0.0 %\n",
      "number_outpatient : 0.0 %\n",
      "number_emergency : 0.0 %\n",
      "number_inpatient : 0.0 %\n",
      "diag_1 : 0.0002063557573256294 %\n",
      "diag_2 : 0.0035178743391702533 %\n",
      "diag_3 : 0.013983059174970029 %\n",
      "number_diagnoses : 0.0 %\n",
      "max_glu_serum : 0.0 %\n",
      "A1Cresult : 0.0 %\n",
      "metformin : 0.0 %\n",
      "repaglinide : 0.0 %\n",
      "nateglinide : 0.0 %\n",
      "chlorpropamide : 0.0 %\n",
      "glimepiride : 0.0 %\n",
      "acetohexamide : 0.0 %\n",
      "glipizide : 0.0 %\n",
      "glyburide : 0.0 %\n",
      "tolbutamide : 0.0 %\n",
      "pioglitazone : 0.0 %\n",
      "rosiglitazone : 0.0 %\n",
      "acarbose : 0.0 %\n",
      "miglitol : 0.0 %\n",
      "troglitazone : 0.0 %\n",
      "tolazamide : 0.0 %\n",
      "examide : 0.0 %\n",
      "citoglipton : 0.0 %\n",
      "insulin : 0.0 %\n",
      "glyburide-metformin : 0.0 %\n",
      "glipizide-metformin : 0.0 %\n",
      "glimepiride-pioglitazone : 0.0 %\n",
      "metformin-rosiglitazone : 0.0 %\n",
      "metformin-pioglitazone : 0.0 %\n",
      "change : 0.0 %\n",
      "diabetesMed : 0.0 %\n",
      "readmitted : 0.0 %\n",
      "gender : 3\n"
     ]
    }
   ],
   "source": [
    "m = df.shape[0]\n",
    "for col in df.columns:\n",
    "    count = df[col].astype(str).str.count('\\?').sum()\n",
    "    print(f\"{col} : {count / m} %\")\n",
    "\n",
    "count = df[\"gender\"].astype(str).str.count('Unknown/Invalid').sum()\n",
    "print(f\"gender : {count}\")"
   ],
   "metadata": {
    "collapsed": false,
    "pycharm": {
     "name": "#%%\n"
    }
   }
  },
  {
   "cell_type": "code",
   "execution_count": 4,
   "outputs": [
    {
     "name": "stdout",
     "output_type": "stream",
     "text": [
      "{'Hispanic', 'AfricanAmerican', 'Other', 'Asian', 'Caucasian'}\n",
      "{'Male', 'Female'}\n"
     ]
    }
   ],
   "source": [
    "# Categorical Values\n",
    "races = [\"AfricanAmerican\", \"Other\", \"Caucasian\", \"Asian\", \"Hispanic\"]\n",
    "genders = [\"Male\", \"Female\"]\n",
    "\n",
    "# Race\n",
    "# replace missing with random value of their list\n",
    "df.loc[df[\"race\"] == \"?\", \"race\"] = random.choice(races)\n",
    "print_column_values(\"race\")\n",
    "\n",
    "# Gender\n",
    "# replace missing with random value of their list\n",
    "df.loc[df[\"gender\"] == \"Unknown/Invalid\", \"gender\"] = random.choice(genders)\n",
    "print_column_values(\"gender\")\n",
    "\n",
    "# Age\n",
    "# convert the [x, y) to y\n",
    "def extract_max(range_str):\n",
    "    range_str = range_str.strip('[]()')\n",
    "    range_values = range_str.split('-')\n",
    "    return range_values[1]\n",
    "\n",
    "df[\"age\"] = df[\"age\"].apply(extract_max)\n",
    "\n",
    "# diag 1-2-3\n",
    "# convert icd9 to their categories based on paper [1]\n",
    "def icd9_diabetes(icd9):\n",
    "    if icd9.startswith(\"250\"):\n",
    "        return \"Diabetes\"\n",
    "    elif \"V\" in icd9 or \"?\" in icd9 or \"E\" in icd9:\n",
    "        return \"Other\"\n",
    "    elif 390<=float(icd9)<=459 or icd9 == \"785\":\n",
    "        return \"Circulatory\"\n",
    "    elif 460<=float(icd9)<=519 or icd9 == \"786\":\n",
    "        return \"Respiratory\"\n",
    "    elif 520<=float(icd9)<=579 or icd9 == \"787\":\n",
    "        return \"Digestive\"\n",
    "    elif 800<=float(icd9)<=999:\n",
    "        return \"Injury\"\n",
    "    elif 710<=float(icd9)<=739:\n",
    "        return \"Musculoskeletal\"\n",
    "    elif 580<=float(icd9)<=629 or icd9 == \"788\":\n",
    "        return \"Genitourinary\"\n",
    "    elif 140<=float(icd9)<=239:\n",
    "        return \"Neoplasms\"\n",
    "    else:\n",
    "        return \"Other\"\n",
    "\n",
    "df[\"diag_1\"] = df[\"diag_1\"].apply(icd9_diabetes)\n",
    "df[\"diag_2\"] = df[\"diag_2\"].apply(icd9_diabetes)\n",
    "df[\"diag_3\"] = df[\"diag_3\"].apply(icd9_diabetes)\n"
   ],
   "metadata": {
    "collapsed": false,
    "pycharm": {
     "name": "#%%\n"
    }
   }
  },
  {
   "cell_type": "code",
   "execution_count": 5,
   "outputs": [],
   "source": [
    "# Convert readmitted to be under 30 days or not\n",
    "df[\"readmitted\"] = df[\"readmitted\"].replace({\">30\": 0, \"NO\": 0, \"<30\": 1})\n",
    "\n",
    "# Change column's values to label use in scikit learn trees\n",
    "le = LabelEncoder()\n",
    "for col in df.columns:\n",
    "    if df[col].dtype == 'object':\n",
    "        df[col] = le.fit_transform(df[col])"
   ],
   "metadata": {
    "collapsed": false,
    "pycharm": {
     "name": "#%%\n"
    }
   }
  },
  {
   "cell_type": "code",
   "execution_count": 6,
   "outputs": [],
   "source": [
    "# Group by readmitted to count the number of each category by under 30 days or not\n",
    "# fig, axs = plt.subplots(nrows=1, ncols=2, figsize=(10, 5))\n",
    "\n",
    "# for col in df:\n",
    "#     count = df.groupby('readmitted')[col].value_counts()\n",
    "#     print(count)\n",
    "#     count.plot(kind='bar')\n",
    "#     plt.title(f'{col} vs readmission')\n",
    "#     plt.show()\n",
    "\n",
    "    # ax = axs[i % 2]  # Get the appropriate subplot\n",
    "    # count.unstack().plot(kind='bar', ax=ax)\n",
    "    # ax.set_title(f'{col} vs readmission')\n",
    "    # ax.legend(title=None)\n",
    "    # ax.set_xlabel('readmission')\n",
    "    # ax.set_ylabel('count')\n",
    "\n",
    "# # Adjust the spacing between subplots\n",
    "# plt.tight_layout()\n",
    "# # Show the plots\n",
    "# plt.show()\n",
    "    # plot = pd.DataFrame({\n",
    "    # \"Sibsp\": [\"None\", \"Above_None\"],\n",
    "    # \"Survived\": [sibsp_none_survived, sibsp_above_none_survived],\n",
    "    # \"Died\": [sibsp_none_died, sibsp_above_none_died]})\n",
    "    #\n",
    "    # df_temp = pd.DataFrame(plot, columns=[\"Gender\", \"Survived\", \"Died\"])\n",
    "    # gender_df.plot(x=\"Gender\", y=[\"Survived\", \"Died\"], kind=\"bar\")\n"
   ],
   "metadata": {
    "collapsed": false,
    "pycharm": {
     "name": "#%%\n"
    }
   }
  },
  {
   "cell_type": "code",
   "execution_count": 7,
   "outputs": [
    {
     "data": {
      "text/plain": "        race  gender  age  time_in_hospital  num_lab_procedures  \\\n0          2       0    0                 1                  41   \n1          2       0    2                 3                  59   \n2          0       0    3                 2                  11   \n3          2       1    4                 2                  44   \n4          2       1    5                 1                  51   \n...      ...     ...  ...               ...                 ...   \n101761     0       1    8                 3                  51   \n101762     0       0    9                 5                  33   \n101763     2       1    8                 1                  53   \n101764     2       0    9                10                  45   \n101765     2       1    8                 6                  13   \n\n        num_medications  number_diagnoses  age  A1Cresult  insulin  ...  \\\n0                     1                 1    0          2        1  ...   \n1                    18                 9    2          2        3  ...   \n2                    13                 6    3          2        1  ...   \n3                    16                 7    4          2        3  ...   \n4                     8                 5    5          2        2  ...   \n...                 ...               ...  ...        ...      ...  ...   \n101761               16                 9    8          1        0  ...   \n101762               18                 9    9          2        2  ...   \n101763                9                13    8          2        0  ...   \n101764               21                 9    9          2        3  ...   \n101765                3                 9    8          2        1  ...   \n\n        number_outpatient  number_inpatient  max_glu_serum  change  \\\n0                       0                 0              2       1   \n1                       0                 0              2       0   \n2                       2                 1              2       1   \n3                       0                 0              2       0   \n4                       0                 0              2       0   \n...                   ...               ...            ...     ...   \n101761                  0                 0              2       0   \n101762                  0                 1              2       1   \n101763                  1                 0              2       0   \n101764                  0                 1              2       0   \n101765                  0                 0              2       1   \n\n        diabetesMed  diag_1  diag_2  diag_3  metformin  readmitted  \n0                 0       1       7       7          1           0  \n1                 1       7       1       7          1           0  \n2                 1       7       1       7          1           0  \n3                 1       7       1       0          1           0  \n4                 1       6       6       1          1           0  \n...             ...     ...     ...     ...        ...         ...  \n101761            1       1       7       0          2           0  \n101762            1       2       7       2          1           0  \n101763            1       7       3       7          2           0  \n101764            1       4       7       4          1           0  \n101765            0       2       2       2          1           0  \n\n[101766 rows x 21 columns]",
      "text/html": "<div>\n<style scoped>\n    .dataframe tbody tr th:only-of-type {\n        vertical-align: middle;\n    }\n\n    .dataframe tbody tr th {\n        vertical-align: top;\n    }\n\n    .dataframe thead th {\n        text-align: right;\n    }\n</style>\n<table border=\"1\" class=\"dataframe\">\n  <thead>\n    <tr style=\"text-align: right;\">\n      <th></th>\n      <th>race</th>\n      <th>gender</th>\n      <th>age</th>\n      <th>time_in_hospital</th>\n      <th>num_lab_procedures</th>\n      <th>num_medications</th>\n      <th>number_diagnoses</th>\n      <th>age</th>\n      <th>A1Cresult</th>\n      <th>insulin</th>\n      <th>...</th>\n      <th>number_outpatient</th>\n      <th>number_inpatient</th>\n      <th>max_glu_serum</th>\n      <th>change</th>\n      <th>diabetesMed</th>\n      <th>diag_1</th>\n      <th>diag_2</th>\n      <th>diag_3</th>\n      <th>metformin</th>\n      <th>readmitted</th>\n    </tr>\n  </thead>\n  <tbody>\n    <tr>\n      <th>0</th>\n      <td>2</td>\n      <td>0</td>\n      <td>0</td>\n      <td>1</td>\n      <td>41</td>\n      <td>1</td>\n      <td>1</td>\n      <td>0</td>\n      <td>2</td>\n      <td>1</td>\n      <td>...</td>\n      <td>0</td>\n      <td>0</td>\n      <td>2</td>\n      <td>1</td>\n      <td>0</td>\n      <td>1</td>\n      <td>7</td>\n      <td>7</td>\n      <td>1</td>\n      <td>0</td>\n    </tr>\n    <tr>\n      <th>1</th>\n      <td>2</td>\n      <td>0</td>\n      <td>2</td>\n      <td>3</td>\n      <td>59</td>\n      <td>18</td>\n      <td>9</td>\n      <td>2</td>\n      <td>2</td>\n      <td>3</td>\n      <td>...</td>\n      <td>0</td>\n      <td>0</td>\n      <td>2</td>\n      <td>0</td>\n      <td>1</td>\n      <td>7</td>\n      <td>1</td>\n      <td>7</td>\n      <td>1</td>\n      <td>0</td>\n    </tr>\n    <tr>\n      <th>2</th>\n      <td>0</td>\n      <td>0</td>\n      <td>3</td>\n      <td>2</td>\n      <td>11</td>\n      <td>13</td>\n      <td>6</td>\n      <td>3</td>\n      <td>2</td>\n      <td>1</td>\n      <td>...</td>\n      <td>2</td>\n      <td>1</td>\n      <td>2</td>\n      <td>1</td>\n      <td>1</td>\n      <td>7</td>\n      <td>1</td>\n      <td>7</td>\n      <td>1</td>\n      <td>0</td>\n    </tr>\n    <tr>\n      <th>3</th>\n      <td>2</td>\n      <td>1</td>\n      <td>4</td>\n      <td>2</td>\n      <td>44</td>\n      <td>16</td>\n      <td>7</td>\n      <td>4</td>\n      <td>2</td>\n      <td>3</td>\n      <td>...</td>\n      <td>0</td>\n      <td>0</td>\n      <td>2</td>\n      <td>0</td>\n      <td>1</td>\n      <td>7</td>\n      <td>1</td>\n      <td>0</td>\n      <td>1</td>\n      <td>0</td>\n    </tr>\n    <tr>\n      <th>4</th>\n      <td>2</td>\n      <td>1</td>\n      <td>5</td>\n      <td>1</td>\n      <td>51</td>\n      <td>8</td>\n      <td>5</td>\n      <td>5</td>\n      <td>2</td>\n      <td>2</td>\n      <td>...</td>\n      <td>0</td>\n      <td>0</td>\n      <td>2</td>\n      <td>0</td>\n      <td>1</td>\n      <td>6</td>\n      <td>6</td>\n      <td>1</td>\n      <td>1</td>\n      <td>0</td>\n    </tr>\n    <tr>\n      <th>...</th>\n      <td>...</td>\n      <td>...</td>\n      <td>...</td>\n      <td>...</td>\n      <td>...</td>\n      <td>...</td>\n      <td>...</td>\n      <td>...</td>\n      <td>...</td>\n      <td>...</td>\n      <td>...</td>\n      <td>...</td>\n      <td>...</td>\n      <td>...</td>\n      <td>...</td>\n      <td>...</td>\n      <td>...</td>\n      <td>...</td>\n      <td>...</td>\n      <td>...</td>\n      <td>...</td>\n    </tr>\n    <tr>\n      <th>101761</th>\n      <td>0</td>\n      <td>1</td>\n      <td>8</td>\n      <td>3</td>\n      <td>51</td>\n      <td>16</td>\n      <td>9</td>\n      <td>8</td>\n      <td>1</td>\n      <td>0</td>\n      <td>...</td>\n      <td>0</td>\n      <td>0</td>\n      <td>2</td>\n      <td>0</td>\n      <td>1</td>\n      <td>1</td>\n      <td>7</td>\n      <td>0</td>\n      <td>2</td>\n      <td>0</td>\n    </tr>\n    <tr>\n      <th>101762</th>\n      <td>0</td>\n      <td>0</td>\n      <td>9</td>\n      <td>5</td>\n      <td>33</td>\n      <td>18</td>\n      <td>9</td>\n      <td>9</td>\n      <td>2</td>\n      <td>2</td>\n      <td>...</td>\n      <td>0</td>\n      <td>1</td>\n      <td>2</td>\n      <td>1</td>\n      <td>1</td>\n      <td>2</td>\n      <td>7</td>\n      <td>2</td>\n      <td>1</td>\n      <td>0</td>\n    </tr>\n    <tr>\n      <th>101763</th>\n      <td>2</td>\n      <td>1</td>\n      <td>8</td>\n      <td>1</td>\n      <td>53</td>\n      <td>9</td>\n      <td>13</td>\n      <td>8</td>\n      <td>2</td>\n      <td>0</td>\n      <td>...</td>\n      <td>1</td>\n      <td>0</td>\n      <td>2</td>\n      <td>0</td>\n      <td>1</td>\n      <td>7</td>\n      <td>3</td>\n      <td>7</td>\n      <td>2</td>\n      <td>0</td>\n    </tr>\n    <tr>\n      <th>101764</th>\n      <td>2</td>\n      <td>0</td>\n      <td>9</td>\n      <td>10</td>\n      <td>45</td>\n      <td>21</td>\n      <td>9</td>\n      <td>9</td>\n      <td>2</td>\n      <td>3</td>\n      <td>...</td>\n      <td>0</td>\n      <td>1</td>\n      <td>2</td>\n      <td>0</td>\n      <td>1</td>\n      <td>4</td>\n      <td>7</td>\n      <td>4</td>\n      <td>1</td>\n      <td>0</td>\n    </tr>\n    <tr>\n      <th>101765</th>\n      <td>2</td>\n      <td>1</td>\n      <td>8</td>\n      <td>6</td>\n      <td>13</td>\n      <td>3</td>\n      <td>9</td>\n      <td>8</td>\n      <td>2</td>\n      <td>1</td>\n      <td>...</td>\n      <td>0</td>\n      <td>0</td>\n      <td>2</td>\n      <td>1</td>\n      <td>0</td>\n      <td>2</td>\n      <td>2</td>\n      <td>2</td>\n      <td>1</td>\n      <td>0</td>\n    </tr>\n  </tbody>\n</table>\n<p>101766 rows × 21 columns</p>\n</div>"
     },
     "execution_count": 7,
     "metadata": {},
     "output_type": "execute_result"
    }
   ],
   "source": [
    "cols = ['race', 'gender', 'age','time_in_hospital', 'num_lab_procedures', 'num_medications', 'number_diagnoses', 'age', 'A1Cresult', 'insulin', 'num_procedures', 'number_outpatient', 'number_inpatient', 'max_glu_serum', 'change', 'diabetesMed', 'diag_1', 'diag_2', 'diag_3', 'metformin', 'readmitted']\n",
    "\n",
    "df = df[cols]\n",
    "df"
   ],
   "metadata": {
    "collapsed": false,
    "pycharm": {
     "name": "#%%\n"
    }
   }
  },
  {
   "cell_type": "markdown",
   "source": [
    "## 2. Model Development"
   ],
   "metadata": {
    "collapsed": false,
    "pycharm": {
     "name": "#%% md\n"
    }
   }
  },
  {
   "cell_type": "code",
   "execution_count": 8,
   "outputs": [
    {
     "data": {
      "text/plain": "RandomForestClassifier(max_depth=100, max_leaf_nodes=25, min_samples_leaf=750,\n                       n_estimators=10)",
      "text/html": "<style>#sk-container-id-1 {color: black;background-color: white;}#sk-container-id-1 pre{padding: 0;}#sk-container-id-1 div.sk-toggleable {background-color: white;}#sk-container-id-1 label.sk-toggleable__label {cursor: pointer;display: block;width: 100%;margin-bottom: 0;padding: 0.3em;box-sizing: border-box;text-align: center;}#sk-container-id-1 label.sk-toggleable__label-arrow:before {content: \"▸\";float: left;margin-right: 0.25em;color: #696969;}#sk-container-id-1 label.sk-toggleable__label-arrow:hover:before {color: black;}#sk-container-id-1 div.sk-estimator:hover label.sk-toggleable__label-arrow:before {color: black;}#sk-container-id-1 div.sk-toggleable__content {max-height: 0;max-width: 0;overflow: hidden;text-align: left;background-color: #f0f8ff;}#sk-container-id-1 div.sk-toggleable__content pre {margin: 0.2em;color: black;border-radius: 0.25em;background-color: #f0f8ff;}#sk-container-id-1 input.sk-toggleable__control:checked~div.sk-toggleable__content {max-height: 200px;max-width: 100%;overflow: auto;}#sk-container-id-1 input.sk-toggleable__control:checked~label.sk-toggleable__label-arrow:before {content: \"▾\";}#sk-container-id-1 div.sk-estimator input.sk-toggleable__control:checked~label.sk-toggleable__label {background-color: #d4ebff;}#sk-container-id-1 div.sk-label input.sk-toggleable__control:checked~label.sk-toggleable__label {background-color: #d4ebff;}#sk-container-id-1 input.sk-hidden--visually {border: 0;clip: rect(1px 1px 1px 1px);clip: rect(1px, 1px, 1px, 1px);height: 1px;margin: -1px;overflow: hidden;padding: 0;position: absolute;width: 1px;}#sk-container-id-1 div.sk-estimator {font-family: monospace;background-color: #f0f8ff;border: 1px dotted black;border-radius: 0.25em;box-sizing: border-box;margin-bottom: 0.5em;}#sk-container-id-1 div.sk-estimator:hover {background-color: #d4ebff;}#sk-container-id-1 div.sk-parallel-item::after {content: \"\";width: 100%;border-bottom: 1px solid gray;flex-grow: 1;}#sk-container-id-1 div.sk-label:hover label.sk-toggleable__label {background-color: #d4ebff;}#sk-container-id-1 div.sk-serial::before {content: \"\";position: absolute;border-left: 1px solid gray;box-sizing: border-box;top: 0;bottom: 0;left: 50%;z-index: 0;}#sk-container-id-1 div.sk-serial {display: flex;flex-direction: column;align-items: center;background-color: white;padding-right: 0.2em;padding-left: 0.2em;position: relative;}#sk-container-id-1 div.sk-item {position: relative;z-index: 1;}#sk-container-id-1 div.sk-parallel {display: flex;align-items: stretch;justify-content: center;background-color: white;position: relative;}#sk-container-id-1 div.sk-item::before, #sk-container-id-1 div.sk-parallel-item::before {content: \"\";position: absolute;border-left: 1px solid gray;box-sizing: border-box;top: 0;bottom: 0;left: 50%;z-index: -1;}#sk-container-id-1 div.sk-parallel-item {display: flex;flex-direction: column;z-index: 1;position: relative;background-color: white;}#sk-container-id-1 div.sk-parallel-item:first-child::after {align-self: flex-end;width: 50%;}#sk-container-id-1 div.sk-parallel-item:last-child::after {align-self: flex-start;width: 50%;}#sk-container-id-1 div.sk-parallel-item:only-child::after {width: 0;}#sk-container-id-1 div.sk-dashed-wrapped {border: 1px dashed gray;margin: 0 0.4em 0.5em 0.4em;box-sizing: border-box;padding-bottom: 0.4em;background-color: white;}#sk-container-id-1 div.sk-label label {font-family: monospace;font-weight: bold;display: inline-block;line-height: 1.2em;}#sk-container-id-1 div.sk-label-container {text-align: center;}#sk-container-id-1 div.sk-container {/* jupyter's `normalize.less` sets `[hidden] { display: none; }` but bootstrap.min.css set `[hidden] { display: none !important; }` so we also need the `!important` here to be able to override the default hidden behavior on the sphinx rendered scikit-learn.org. See: https://github.com/scikit-learn/scikit-learn/issues/21755 */display: inline-block !important;position: relative;}#sk-container-id-1 div.sk-text-repr-fallback {display: none;}</style><div id=\"sk-container-id-1\" class=\"sk-top-container\"><div class=\"sk-text-repr-fallback\"><pre>RandomForestClassifier(max_depth=100, max_leaf_nodes=25, min_samples_leaf=750,\n                       n_estimators=10)</pre><b>In a Jupyter environment, please rerun this cell to show the HTML representation or trust the notebook. <br />On GitHub, the HTML representation is unable to render, please try loading this page with nbviewer.org.</b></div><div class=\"sk-container\" hidden><div class=\"sk-item\"><div class=\"sk-estimator sk-toggleable\"><input class=\"sk-toggleable__control sk-hidden--visually\" id=\"sk-estimator-id-1\" type=\"checkbox\" checked><label for=\"sk-estimator-id-1\" class=\"sk-toggleable__label sk-toggleable__label-arrow\">RandomForestClassifier</label><div class=\"sk-toggleable__content\"><pre>RandomForestClassifier(max_depth=100, max_leaf_nodes=25, min_samples_leaf=750,\n                       n_estimators=10)</pre></div></div></div></div></div>"
     },
     "execution_count": 8,
     "metadata": {},
     "output_type": "execute_result"
    }
   ],
   "source": [
    "X = df.drop('readmitted', axis = 1)\n",
    "y = df.readmitted\n",
    "X_train, X_test, y_train, y_test = train_test_split(X, y, test_size = 0.2)\n",
    "\n",
    "# Hyper parameters\n",
    "max_depth = 100\n",
    "min_samples_leaf = 750\n",
    "max_leaf_nodes = 25\n",
    "n_estimators = 10 # number of trees for random forest\n",
    "\n",
    "# Create decision tree\n",
    "dt = DecisionTreeClassifier(max_depth = max_depth, min_samples_leaf = min_samples_leaf, max_leaf_nodes = max_leaf_nodes)\n",
    "dt.fit(X_train, y_train)\n",
    "\n",
    "# Create random forest\n",
    "rfc = RandomForestClassifier(n_estimators = n_estimators, max_depth = max_depth, min_samples_leaf = min_samples_leaf, max_leaf_nodes = max_leaf_nodes)\n",
    "rfc.fit(X_train, y_train)"
   ],
   "metadata": {
    "collapsed": false,
    "pycharm": {
     "name": "#%%\n"
    }
   }
  },
  {
   "cell_type": "code",
   "execution_count": 9,
   "outputs": [
    {
     "name": "stdout",
     "output_type": "stream",
     "text": [
      "Decision Tree Train Accuracy: 0.88839\n",
      "Decision Tree Test Accuracy: 0.88842\n",
      "Decision Tree Precision: 0.0\n",
      "Decision Tree Recall: 0.0\n",
      "Decision Tree F1-score: 0.0\n",
      "Decision Tree Confusion Matrix: [[18083     0]\n",
      " [ 2271     0]]\n",
      "Random Forest Train Accuracy: 0.88839\n",
      "Random Forest Test Accuracy: 0.88842\n",
      "Random Forest Precision: 0.0\n",
      "Random Forest Recall: 0.0\n",
      "Random Forest F1-score: 0.0\n",
      "Random Forest Confusion Matrix: [[18083     0]\n",
      " [ 2271     0]]\n"
     ]
    },
    {
     "name": "stderr",
     "output_type": "stream",
     "text": [
      "C:\\Anaconda3\\lib\\site-packages\\sklearn\\metrics\\_classification.py:1334: UndefinedMetricWarning: Precision is ill-defined and being set to 0.0 due to no predicted samples. Use `zero_division` parameter to control this behavior.\n",
      "  _warn_prf(average, modifier, msg_start, len(result))\n",
      "C:\\Anaconda3\\lib\\site-packages\\sklearn\\metrics\\_classification.py:1334: UndefinedMetricWarning: Precision is ill-defined and being set to 0.0 due to no predicted samples. Use `zero_division` parameter to control this behavior.\n",
      "  _warn_prf(average, modifier, msg_start, len(result))\n"
     ]
    }
   ],
   "source": [
    "# ------------------------- Accuracy --------------------------\n",
    "# Make predictions on the training and test data\n",
    "y_pred_train_dt = dt.predict(X_train)\n",
    "y_pred_test_dt = dt.predict(X_test)\n",
    "accuracy_test_dt = accuracy_score(y_train, y_pred_train_dt)\n",
    "accuracy_train_dt = accuracy_score(y_test, y_pred_test_dt)\n",
    "print(\"Decision Tree Train Accuracy:\", round(accuracy_test_dt, 5))\n",
    "print(\"Decision Tree Test Accuracy:\", round(accuracy_train_dt, 5))\n",
    "print(\"Decision Tree Precision:\", precision_score(y_test, y_pred_test_dt))\n",
    "print(\"Decision Tree Recall:\", recall_score(y_test, y_pred_test_dt))\n",
    "print(\"Decision Tree F1-score:\", f1_score(y_test, y_pred_test_dt))\n",
    "print(\"Decision Tree Confusion Matrix:\", confusion_matrix(y_test, y_pred_test_dt))\n",
    "\n",
    "y_pred_train_rfc = rfc.predict(X_train)\n",
    "y_pred_test_rfc = rfc.predict(X_test)\n",
    "accuracy_test_rfc = accuracy_score(y_train, y_pred_train_rfc)\n",
    "accuracy_train_rfc = accuracy_score(y_test, y_pred_test_rfc)\n",
    "print(\"Random Forest Train Accuracy:\", round(accuracy_test_rfc, 5))\n",
    "print(\"Random Forest Test Accuracy:\", round(accuracy_train_rfc, 5))\n",
    "print(\"Random Forest Precision:\", precision_score(y_test, y_pred_test_rfc))\n",
    "print(\"Random Forest Recall:\", recall_score(y_test, y_pred_test_rfc))\n",
    "print(\"Random Forest F1-score:\", f1_score(y_test, y_pred_test_rfc))\n",
    "print(\"Random Forest Confusion Matrix:\", confusion_matrix(y_test, y_pred_test_rfc))"
   ],
   "metadata": {
    "collapsed": false,
    "pycharm": {
     "name": "#%%\n"
    }
   }
  },
  {
   "cell_type": "markdown",
   "source": [
    "## 3. Model Evaluation and Interpretation"
   ],
   "metadata": {
    "collapsed": false,
    "pycharm": {
     "name": "#%% md\n"
    }
   }
  },
  {
   "cell_type": "code",
   "execution_count": 10,
   "outputs": [
    {
     "name": "stdout",
     "output_type": "stream",
     "text": [
      "[20]\n",
      "['readmitted']\n"
     ]
    },
    {
     "data": {
      "text/plain": "<AxesSubplot:>"
     },
     "execution_count": 10,
     "metadata": {},
     "output_type": "execute_result"
    },
    {
     "data": {
      "text/plain": "<Figure size 640x480 with 2 Axes>",
      "image/png": "[encoded data removed]"
     },
     "metadata": {},
     "output_type": "display_data"
    }
   ],
   "source": [
    "absolute_correlations = df.corr()['readmitted'].abs()\n",
    "# print(absolute_correlations)\n",
    "\n",
    "features_index = np.where(absolute_correlations > 0.2)\n",
    "features_index = np.array(features_index).tolist()[0]\n",
    "print(features_index)\n",
    "\n",
    "features = df.columns.values[features_index]\n",
    "print(features)\n",
    "\n",
    "sns.heatmap(df.corr(), annot=False)"
   ],
   "metadata": {
    "collapsed": false,
    "pycharm": {
     "name": "#%%\n"
    }
   }
  },
  {
   "cell_type": "code",
   "execution_count": 11,
   "outputs": [],
   "source": [
    "# from sklearn.metrics import mean_absolute_error\n",
    "# from sklearn.tree import DecisionTreeRegressor\n",
    "#\n",
    "# def get_mae(max_leaf_nodes, train_X, val_X, train_y, val_y):\n",
    "#     model = DecisionTreeRegressor(max_leaf_nodes=max_leaf_nodes, random_state=0)\n",
    "#     model.fit(train_X, train_y)\n",
    "#     preds_val = model.predict(val_X)\n",
    "#     mae = mean_absolute_error(val_y, preds_val)\n",
    "#     return(mae)\n",
    "\n",
    "# # compare MAE with differing values of max_leaf_nodes\n",
    "# for max_leaf_nodes in [5, 50, 500, 5000]:\n",
    "#     my_mae = get_mae(max_leaf_nodes, train_X, val_X, train_y, val_y)\n",
    "#     print(\"Max leaf nodes: %d  \\t\\t Mean Absolute Error:  %d\" %(max_leaf_nodes, my_mae))\n",
    "\n",
    "# from sklearn.ensemble import RandomForestRegressor\n",
    "# # Define the model. Set random_state to 1\n",
    "# rf_model = RandomForestRegressor(random_state = 1)\n",
    "# # fit your model\n",
    "# rf_model.fit(train_X, train_y)\n",
    "# # Calculate the mean absolute error of your Random Forest model on the validation data\n",
    "# rf_val_mae = mean_absolute_error(val_y, rf_model.predict(val_X))\n",
    "# print(\"Validation MAE for Random Forest Model: {}\".format(rf_val_mae))\n",
    "# # Check your answer\n",
    "# step_1.check()"
   ],
   "metadata": {
    "collapsed": false,
    "pycharm": {
     "name": "#%%\n"
    }
   }
  },
  {
   "cell_type": "markdown",
   "source": [
    "## 4. Documentation and Presentation"
   ],
   "metadata": {
    "collapsed": false,
    "pycharm": {
     "name": "#%% md\n"
    }
   }
  },
  {
   "cell_type": "code",
   "execution_count": 11,
   "outputs": [],
   "source": [],
   "metadata": {
    "collapsed": false,
    "pycharm": {
     "name": "#%%\n"
    }
   }
  }
 ],
 "metadata": {
  "kernelspec": {
   "display_name": "Python 3",
   "language": "python",
   "name": "python3"
  },
  "language_info": {
   "codemirror_mode": {
    "name": "ipython",
    "version": 2
   },
   "file_extension": ".py",
   "mimetype": "text/x-python",
   "name": "python",
   "nbconvert_exporter": "python",
   "pygments_lexer": "ipython2",
   "version": "2.7.6"
  }
 },
 "nbformat": 4,
 "nbformat_minor": 0
}